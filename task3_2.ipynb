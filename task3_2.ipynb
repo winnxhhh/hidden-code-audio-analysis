{
 "cells": [
  {
   "cell_type": "markdown",
   "metadata": {},
   "source": [
    "# Task 3.2: Embedding Hidden Messages Using LSB"
   ]
  },
  {
   "cell_type": "markdown",
   "metadata": {},
   "source": [
    "In this task, we will be embedding a secret message into our audio file, Ex3_sound5.wav. We will then also implement an algorithm that will reverse the process of embedding."
   ]
  },
  {
   "cell_type": "markdown",
   "metadata": {},
   "source": [
    "1) Import necessary libraries"
   ]
  },
  {
   "cell_type": "code",
   "execution_count": 44,
   "metadata": {},
   "outputs": [],
   "source": [
    "import wave\n",
    "import numpy as np\n",
    "import random"
   ]
  },
  {
   "cell_type": "markdown",
   "metadata": {},
   "source": [
    "2. Make a function that will embed the secret message into the audio file"
   ]
  },
  {
   "cell_type": "code",
   "execution_count": 45,
   "metadata": {},
   "outputs": [],
   "source": [
    "# self written code start\n",
    "\n",
    "def embed_message(audio_file, output_file, secret_message, seed=42, lsb_count=1):\n",
    "    # Convert message to binary\n",
    "    secret_message += '\\0'  # Null character to mark the end of the message\n",
    "    message_bits = ''.join([f\"{ord(c):08b}\" for c in secret_message])\n",
    "\n",
    "    # Open the audio file\n",
    "    with wave.open(audio_file, 'rb') as wav:\n",
    "        params = wav.getparams()\n",
    "        frames = wav.readframes(params.nframes)\n",
    "        audio_data = np.frombuffer(frames, dtype=np.int16).copy()  # Create a writable copy\n",
    "\n",
    "    # Randomise indices\n",
    "    np.random.seed(seed)\n",
    "    indices = np.random.choice(len(audio_data), size=len(message_bits), replace=False)\n",
    "\n",
    "    # Embed the message\n",
    "    for i, bit in enumerate(message_bits):\n",
    "        value = audio_data[indices[i]]\n",
    "        for b in range(lsb_count):\n",
    "            value = (value & ~(1 << b)) | (int(bit) << b)\n",
    "        audio_data[indices[i]] = value\n",
    "\n",
    "    # Save the modified audio\n",
    "    with wave.open(output_file, 'wb') as wav_out:\n",
    "        wav_out.setparams(params)\n",
    "        wav_out.writeframes(audio_data.tobytes())\n",
    "\n",
    "    print(f\"Message embedded into {output_file}\")"
   ]
  },
  {
   "cell_type": "markdown",
   "metadata": {},
   "source": [
    "3. Make a function that will reverse the embedding and instead extract the secret message from the embedded audio"
   ]
  },
  {
   "cell_type": "code",
   "execution_count": 46,
   "metadata": {},
   "outputs": [],
   "source": [
    "def extract_message(audio_file, seed=42, lsb_count=1):\n",
    "    with wave.open(audio_file, 'rb') as wav:\n",
    "        frames = wav.readframes(wav.getnframes())\n",
    "        audio_data = np.frombuffer(frames, dtype=np.int16)\n",
    "\n",
    "    np.random.seed(seed)\n",
    "    indices = np.random.choice(len(audio_data), size=len(audio_data), replace=False)\n",
    "\n",
    "    message_bits = []\n",
    "    for i in indices:\n",
    "        value = audio_data[i]\n",
    "        for b in range(lsb_count):\n",
    "            message_bits.append((value >> b) & 1)\n",
    "\n",
    "        # Check if we have completed a character\n",
    "        if len(message_bits) % 8 == 0:\n",
    "            char = chr(int(''.join(map(str, message_bits[-8:])), 2))\n",
    "            if char == '\\0':\n",
    "                break\n",
    "\n",
    "    # Convert bits to string\n",
    "    extracted_message = ''.join(\n",
    "        chr(int(''.join(map(str, message_bits[i:i + 8])), 2))\n",
    "        for i in range(0, len(message_bits) - 8, 8)  # Skip last null character bits\n",
    "    )\n",
    "    return extracted_message"
   ]
  },
  {
   "cell_type": "markdown",
   "metadata": {},
   "source": [
    "4. Test the embedding function by initialising the audio file, the path and name of the file you want to save the embedded audio file into, and the secret message you want to embed"
   ]
  },
  {
   "cell_type": "code",
   "execution_count": 47,
   "metadata": {},
   "outputs": [
    {
     "name": "stdout",
     "output_type": "stream",
     "text": [
      "Message embedded into ../exercise3/Ex3_sound5_steg.wav\n"
     ]
    }
   ],
   "source": [
    "# Test the application\n",
    "audio_file = '../exercise3/Ex3_sound5.wav'\n",
    "output_file = '../exercise3/Ex3_sound5_steg.wav'\n",
    "secret_message = 'An eye for an eye makes the whole world blind'\n",
    "\n",
    "# Embed the message\n",
    "embed_message(audio_file, output_file, secret_message, seed=42, lsb_count=1)"
   ]
  },
  {
   "cell_type": "markdown",
   "metadata": {},
   "source": [
    "5. To test whether the embedding worked, we run the extraction function and on the output file and print out the message extracted from it"
   ]
  },
  {
   "cell_type": "code",
   "execution_count": 48,
   "metadata": {},
   "outputs": [
    {
     "name": "stdout",
     "output_type": "stream",
     "text": [
      "Extracted Message: An eye for an eye makes the whole world blind\n"
     ]
    }
   ],
   "source": [
    "# Extract the message\n",
    "extracted_message = extract_message(output_file, seed=42, lsb_count=1)\n",
    "\n",
    "print(f\"Extracted Message: {extracted_message}\")\n",
    "# self written code end\n"
   ]
  },
  {
   "cell_type": "markdown",
   "metadata": {},
   "source": [
    "For the above to work, we need to make sure that the seed and lsb_count values for both embedding and extraction match."
   ]
  }
 ],
 "metadata": {
  "kernelspec": {
   "display_name": "base",
   "language": "python",
   "name": "python3"
  },
  "language_info": {
   "codemirror_mode": {
    "name": "ipython",
    "version": 3
   },
   "file_extension": ".py",
   "mimetype": "text/x-python",
   "name": "python",
   "nbconvert_exporter": "python",
   "pygments_lexer": "ipython3",
   "version": "3.12.7"
  }
 },
 "nbformat": 4,
 "nbformat_minor": 2
}
